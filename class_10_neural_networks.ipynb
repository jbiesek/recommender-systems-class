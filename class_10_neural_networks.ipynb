{
 "cells": [
  {
   "cell_type": "markdown",
   "id": "fcf70380",
   "metadata": {},
   "source": [
    "# Neural networks basics"
   ]
  },
  {
   "cell_type": "code",
   "execution_count": 1,
   "id": "spread-happiness",
   "metadata": {},
   "outputs": [],
   "source": [
    "%matplotlib inline\n",
    "%load_ext autoreload\n",
    "%autoreload 2\n",
    "\n",
    "import numpy as np\n",
    "import pandas as pd\n",
    "import matplotlib.pyplot as plt\n",
    "import seaborn as sns\n",
    "import matplotlib.ticker as ticker\n",
    "from IPython.display import Markdown, display, HTML\n",
    "\n",
    "# Fix the dying kernel problem (only a problem in some installations - you can remove it, if it works without it)\n",
    "import os\n",
    "os.environ['KMP_DUPLICATE_LIB_OK'] = 'True'"
   ]
  },
  {
   "cell_type": "markdown",
   "id": "regular-niger",
   "metadata": {},
   "source": [
    "**Task 1.** Write a method for performing feed forward for a network with 2 input neurons, 3 hidden neurons with ReLU as the activation function, and 1 output neuron with no activation function. The interface of the method should be as follows:\n",
    "\n",
    "    feed_forward_1(x, w1, w2)\n",
    "    \n",
    "where x is a numpy array of size 1x2, w1 is a numpy array of size 3x2 of weights from the input layer to the hidden layer, w2 is a numpy array of size 1x3. The result should be a single number.\n",
    "\n",
    "As a helper function you can write the relu function:\n",
    "\n",
    "    relu(x)\n",
    "   \n",
    "which takes a numpy array as input and applies the ReLU function element-wise.\n",
    "\n",
    "Test it on 2-3 examples, calculate the result also with pen and paper by yourself (it's very important to do it at least once in your life!) and compare your results with the function results."
   ]
  },
  {
   "cell_type": "code",
   "execution_count": 2,
   "id": "agreed-single",
   "metadata": {},
   "outputs": [
    {
     "name": "stdout",
     "output_type": "stream",
     "text": [
      "35\n"
     ]
    }
   ],
   "source": [
    "def relu(x):\n",
    "    return np.maximum(x,0)\n",
    "\n",
    "def feed_forward_1(x, w1, w2):\n",
    "    y = np.matmul(w2,relu(np.matmul(w1,x)))\n",
    "    print(y)\n",
    "# Test\n",
    "\n",
    "x = [1,2]\n",
    "w1 = [[1,2],\n",
    "     [3,2],\n",
    "     [2,2]]\n",
    "w2=[3,2,1]\n",
    "feed_forward_1(x,w1,w2)"
   ]
  },
  {
   "cell_type": "markdown",
   "id": "another-catch",
   "metadata": {},
   "source": [
    "**Task 2.** Write a method for performing feed forward for a network with 2 input neurons, 3 hidden neurons with sigmoid activation function, and 1 output neuron with sigmoid activation function. The interface of the method should be as follows:\n",
    "\n",
    "    feed_forward_2(x, w1, w2)\n",
    "    \n",
    "where x is a numpy array of size 1x2, w1 is a numpy array of size 3x2 of weights from the input layer to the hidden layer, w2 is a numpy array of size 1x3. The result should be a single number.\n",
    "\n",
    "As a helper function you can write the sigmoid function:\n",
    "\n",
    "    sigmoid(x)\n",
    "   \n",
    "which takes a numpy array as input and applies the logistic function element-wise.\n",
    "\n",
    "Test it on 2-3 examples. Try to estimate the result by hand and compare both results."
   ]
  },
  {
   "cell_type": "code",
   "execution_count": 3,
   "id": "forbidden-journalism",
   "metadata": {},
   "outputs": [
    {
     "data": {
      "text/plain": [
       "0.9974665250265122"
      ]
     },
     "execution_count": 3,
     "metadata": {},
     "output_type": "execute_result"
    }
   ],
   "source": [
    "def sigmoid(x):\n",
    "    return 1/(1+np.exp(-x))\n",
    "\n",
    "def feed_forward_2(x, w1, w2):\n",
    "    return sigmoid(np.matmul(w2,sigmoid(np.matmul(w1,x))))\n",
    "   \n",
    "\n",
    "x = [1,2]\n",
    "w1 = [[1,2],\n",
    "     [3,2],\n",
    "     [2,2]]\n",
    "w2=[3,2,1]\n",
    "feed_forward_2(x,w1,w2)"
   ]
  },
  {
   "cell_type": "markdown",
   "id": "acute-amber",
   "metadata": {},
   "source": [
    "**Task 3.** Write a method for performing feed forward for a network with 2 input neurons, 3 hidden neurons with relu activation, and 3 output neurons with no activation function but softmax applied to them. The interface of the method should be as follows:\n",
    "\n",
    "    feed_forward_3(x, w1, w2)\n",
    "    \n",
    "where x is a numpy array of size 1x2, w1 is a numpy array of size 3x2 of weights from the input layer to the hidden layer, w2 is a numpy array of size 3x3. The result should be a numpy array of size 1x3.\n",
    "\n",
    "As a helper function you can write the softmax function:\n",
    "\n",
    "    softmax(x)\n",
    "   \n",
    "which takes a numpy array as input, applies softmax to it and returns a numpy array of the same size.\n",
    "\n",
    "Test it on 2-3 examples. Try to estimate the result by hand and compare both results. Verify that the sum of output neurons is equal to 1."
   ]
  },
  {
   "cell_type": "code",
   "execution_count": 4,
   "id": "falling-holder",
   "metadata": {},
   "outputs": [
    {
     "name": "stdout",
     "output_type": "stream",
     "text": [
      "[0.11894324 0.87887824 0.00217852]\n"
     ]
    }
   ],
   "source": [
    "def softmax(x):\n",
    "    return np.exp(x)/np.sum(np.exp(x))\n",
    "\n",
    "def feed_forward_3(x, w1, w2):\n",
    "    return softmax(np.matmul(w2,relu(np.matmul(w1,x))))\n",
    "   \n",
    "\n",
    " \t\n",
    "\n",
    "x = np.array([-1, 1])\n",
    "w1 = np.array([[2, -1],\n",
    "               [-5, -2],\n",
    "               [1, 3]])\n",
    "w2 = np.array([[-1, -2, 1],\n",
    "               [1, 0, -1],\n",
    "               [2, -3, 0.5]])\n",
    "print(feed_forward_3(x, w1, w2))"
   ]
  },
  {
   "cell_type": "markdown",
   "id": "94fe2269",
   "metadata": {},
   "source": [
    "**Task 4.** Write a method for calculating the squared error:\n",
    "\n",
    "    se(y_bar, y)\n",
    "    \n",
    "where y_bar is a numpy array of predicted results and y is a numpy array of real values to be predicted.\n",
    "\n",
    "Test it on the 2-3 examples you created for feed_forward_1 and find the SE with respect to real values chosen by hand. Experiment with several values to get a grip of how SE works."
   ]
  },
  {
   "cell_type": "code",
   "execution_count": 5,
   "id": "5b7d7940",
   "metadata": {},
   "outputs": [],
   "source": [
    "def se(y_bar, y):\n",
    "    return np.mean((y_bar-y)**2)\n",
    "    \n",
    "# Test\n",
    "\n",
    "########################\n",
    "# Write your code here #\n",
    "########################"
   ]
  },
  {
   "cell_type": "markdown",
   "id": "0082d383",
   "metadata": {},
   "source": [
    "**Task 5.** Write a method for calculating the cross-entropy loss:\n",
    "\n",
    "    crossentropy(y_bar, y)\n",
    "    \n",
    "where y_bar is a numpy array of predicted results and y is a numpy array of real values to be predicted (y must contain one value of 1 and 0 on all other positions - just like in one-hot encoding).\n",
    "\n",
    "Test it on the 2-3 examples you created for feed_forward_3 and find the cross-entropy with respect to vectors of real values chosen by hand. Experiment with several target vectors to get a grip of how cross-entropy works."
   ]
  },
  {
   "cell_type": "code",
   "execution_count": 6,
   "id": "47526b2a",
   "metadata": {},
   "outputs": [
    {
     "name": "stdout",
     "output_type": "stream",
     "text": [
      "1.154397247699546e-08\n"
     ]
    }
   ],
   "source": [
    "def crossentropy(y_bar, y):\n",
    "\n",
    "    return -np.sum(y*np.log(y_bar) + (1-y)*np.log(1-y_bar))\n",
    "# Test\n",
    "\n",
    "\n",
    "x = np.array([1, 2])\n",
    "w1 = np.array([[-1, 1],\n",
    "               [-0.5, 2.5],\n",
    "               [0, 3]])\n",
    "w2 = np.array([[-1, 2, 1],\n",
    "               [1, 0, -1],\n",
    "               [2, -3, 0.5]])\n",
    "print(crossentropy(feed_forward_3(x, w1, w2), np.array([1.0, 0.0, 0.0])))"
   ]
  },
  {
   "cell_type": "markdown",
   "id": "e3718602",
   "metadata": {},
   "source": [
    "**Task 6.** Write a method which calculates the error term for network 2:\n",
    "\n",
    "    error_term(x, w1, w2, y)\n",
    "    \n",
    "where x is a numpy array of size 1x2, w1 is a numpy array of size 3x2 of weights from the input layer to the hidden layer, w2 is a numpy array of size 1x3, y is a float.\n",
    "\n",
    "The solution is extremely simple - it's just the difference between y and the result of feed_forward_2. This task is solely to bring this notion to your attention.\n",
    "\n",
    "Test it on the 2-3 examples you created for feed_forward_2 and several values of y (remember that the values of y should logically be in the interval [0-1], because you used the sigmoid activation which sends the network's results into this interval, technically turning them into probabilities)."
   ]
  },
  {
   "cell_type": "code",
   "execution_count": 7,
   "id": "47d98db2",
   "metadata": {},
   "outputs": [
    {
     "name": "stdout",
     "output_type": "stream",
     "text": [
      "-0.08056501459743926\n"
     ]
    }
   ],
   "source": [
    "def error_term(x, w1, w2, y):\n",
    "    return y -feed_forward_2(x, w1, w2)\n",
    "\n",
    "# Test\n",
    "\n",
    "x = np.array([1, 2])\n",
    "w1 = np.array([[-1, 1],\n",
    "               [0.5, -2],\n",
    "               [0, 3]])\n",
    "w2 = np.array([-1, 2, 1])\n",
    "print(error_term(x, w1, w2, 0.5))"
   ]
  },
  {
   "cell_type": "markdown",
   "id": "f3896f79",
   "metadata": {},
   "source": [
    "**Task 7.** Write a method which calculates the derivative of the sigmoid function on every element of a numpy array:\n",
    "\n",
    "    sigmoid_derivative(x)\n",
    "    \n",
    "where x is a numpy array. The result should have the same size as the input.\n",
    "\n",
    "Use the formula:\n",
    "\n",
    "<center>\n",
    "$$\n",
    "    \\sigma'(x) = \\sigma(x) (1 - \\sigma(x))\n",
    "$$\n",
    "</center>\n",
    "\n",
    "Verify this formula by differentiating the sigmoid function by hand.\n",
    "\n",
    "Test the sigmoid_derivative method on a numpy array with several values (e.g. -3, -2, -1, 0, 1, 2, 3)."
   ]
  },
  {
   "cell_type": "code",
   "execution_count": 8,
   "id": "98020df9",
   "metadata": {},
   "outputs": [
    {
     "name": "stdout",
     "output_type": "stream",
     "text": [
      "[0.04517666 0.10499359 0.19661193 0.25       0.19661193 0.10499359\n",
      " 0.04517666]\n"
     ]
    }
   ],
   "source": [
    "def sigmoid_derivative(x):\n",
    "    return sigmoid(x)*(1-sigmoid(x))\n",
    "\n",
    "# Test\n",
    "\n",
    "print(sigmoid_derivative(np.array([-3.0, -2.0, -1.0, 0.0, 1.0, 2.0, 3.0])))"
   ]
  },
  {
   "cell_type": "markdown",
   "id": "2f301009",
   "metadata": {},
   "source": [
    "**Task 8.** Write a method for performing the backpropagation step for network 2. The method should have the following interface:\n",
    "\n",
    "    backpropagate(x, w1, w2, y, alpha)\n",
    "    \n",
    "where x is a numpy array of size 1x2, w1 is a numpy array of size 3x2 of weights from the input layer to the hidden layer, w2 is a numpy array of size 1x3, y is a float, alpha is the learning rate. The method should return a tuple with updated matrices w1 and w2.\n",
    "\n",
    "Test it on 2-3 examples. Test several values of the learning rate alpha on the same input to see how it affects the update step."
   ]
  },
  {
   "cell_type": "code",
   "execution_count": 13,
   "id": "d8838f3d",
   "metadata": {},
   "outputs": [
    {
     "name": "stdout",
     "output_type": "stream",
     "text": [
      "0.5805650145974393\n",
      "\n",
      "[[-9.86972092e-01  1.02605582e+00]\n",
      " [ 4.96229289e-01 -2.00754142e+00]\n",
      " [-1.63435940e-04  2.99967313e+00]]\n",
      "[-1.04844143  1.99805771  0.9339018 ]\n",
      "0.5521595151335615\n",
      "\n",
      "[[-9.73804803e-01  1.05239039e+00]\n",
      " [ 4.92549709e-01 -2.01490058e+00]\n",
      " [-3.15319668e-04  2.99936936e+00]]\n",
      "[-1.09743683  1.99616156  0.86818172]\n",
      "0.5231787430565403\n",
      "\n",
      "[[-9.60643225e-01  1.07871355e+00]\n",
      " [ 4.88984236e-01 -2.02203153e+00]\n",
      " [-4.54768343e-04  2.99909046e+00]]\n",
      "[-1.14659236  1.99432343  0.80332383]\n",
      "0.49405460583983957\n",
      "\n",
      "[[-9.47629028e-01  1.10474194e+00]\n",
      " [ 4.85552880e-01 -2.02889424e+00]\n",
      " [-5.81257317e-04  2.99883749e+00]]\n",
      "[-1.19550609  1.9925537   0.73978796]\n",
      "0.465228374281893\n",
      "\n",
      "[[-9.34890815e-01  1.13021837e+00]\n",
      " [ 4.82271500e-01 -2.03545700e+00]\n",
      " [-6.94643334e-04  2.99861071e+00]]\n",
      "[-1.24379456  1.99086061  0.6779813 ]\n",
      "0.43711299579491325\n",
      "\n",
      "[[-9.22536617e-01  1.15492677e+00]\n",
      " [ 4.79151098e-01 -2.04169780e+00]\n",
      " [-7.95145920e-04  2.99840971e+00]]\n",
      "[-1.29111617  1.98924993  0.61823694]\n",
      "0.410061292657007\n",
      "\n",
      "[[-9.10649576e-01  1.17870085e+00]\n",
      " [ 4.76197685e-01 -2.04760463e+00]\n",
      " [-8.83293578e-04  2.99823341e+00]]\n",
      "[-1.33718782  1.98772485  0.56080208]\n",
      "0.384345565286336\n",
      "\n",
      "[[-8.99286959e-01  1.20142608e+00]\n",
      " [ 4.73412649e-01 -2.05317470e+00]\n",
      " [-9.59848248e-04  2.99808030e+00]]\n",
      "[-1.38179313  1.98628617  0.5058365 ]\n",
      "0.36015042535683484\n",
      "\n",
      "[[-8.88481936e-01  1.22303613e+00]\n",
      " [ 4.70793468e-01 -2.05841306e+00]\n",
      " [-1.02572328e-03  2.99794855e+00]]\n",
      "[-1.42478273  1.98493268  0.45341932]\n",
      "0.33757715635996244\n",
      "\n",
      "[[-8.78247135e-01  1.24350573e+00]\n",
      " [ 4.68334601e-01 -2.06333080e+00]\n",
      " [-1.08190757e-03  2.99783618e+00]]\n",
      "[-1.46606844  1.98366159  0.40356128]\n",
      "0.3166558219759261\n",
      "\n"
     ]
    }
   ],
   "source": [
    "def backpropagate(x, w1, w2, y, alpha):\n",
    "    h = sigmoid(np.matmul(w1, x))\n",
    "    error = error_term(x, w1, w2, y)\n",
    "    curr_grad = sigmoid_derivative(np.matmul(w2, h))\n",
    "    prev_grad = w2 * sigmoid_derivative(np.matmul(w1, x))\n",
    "    prev_grad = np.matmul(prev_grad.reshape(3, 1), x.reshape(1, 2))\n",
    "    w1 += 2 * alpha * error * curr_grad * prev_grad\n",
    "    w2 += 2 * alpha * error * curr_grad * h\n",
    "    return w1, w2\n",
    "\n",
    "# Test\n",
    "\n",
    "x = np.array([1.0, 2.0])\n",
    "w1 = np.array([[-1.0, 1.0],\n",
    "               [0.5, -2],\n",
    "               [0.0, 3.0]])\n",
    "w2 = np.array([-1.0, 2.0, 1.0])\n",
    "\n",
    "print(feed_forward_2(x, w1, w2))\n",
    "print()\n",
    "\n",
    "y = -0.78\n",
    "alpha = 0.1\n",
    "for _ in range(10):\n",
    "    w1, w2 = backpropagate(x, w1, w2, y, alpha)\n",
    "    print(w1)\n",
    "    print(w2)\n",
    "    print(feed_forward_2(x, w1, w2))\n",
    "    print()"
   ]
  },
  {
   "cell_type": "markdown",
   "id": "ce4f63a3",
   "metadata": {},
   "source": [
    "**Task 9.** Write a method for performing the backpropagation step for network 2 but without the activation function on the output neuron."
   ]
  },
  {
   "cell_type": "code",
   "execution_count": 16,
   "id": "ec9a8c86",
   "metadata": {},
   "outputs": [],
   "source": [
    "def backpropagate(x, w1, w2, y, alpha):\n",
    "    h = sigmoid(np.matmul(w1, x))\n",
    "    error = error_term(x, w1, w2, y)\n",
    "    curr_grad = sigmoid_derivative(np.matmul(w2, h))\n",
    "    prev_grad = w2 * sigmoid_derivative(np.matmul(w1, x))\n",
    "    prev_grad = np.matmul(prev_grad.reshape(3, 1), x.reshape(1, 2))\n",
    "    w1 += 2 * alpha * error * prev_grad\n",
    "    w2 += 2 * alpha * error * h\n",
    "    return w1, w2\n",
    "\n",
    "# Test\n",
    "\n",
    " \t\n"
   ]
  },
  {
   "cell_type": "code",
   "execution_count": null,
   "id": "resistant-mountain",
   "metadata": {},
   "outputs": [],
   "source": []
  }
 ],
 "metadata": {
  "kernelspec": {
   "display_name": "Python 3",
   "language": "python",
   "name": "python3"
  },
  "language_info": {
   "codemirror_mode": {
    "name": "ipython",
    "version": 3
   },
   "file_extension": ".py",
   "mimetype": "text/x-python",
   "name": "python",
   "nbconvert_exporter": "python",
   "pygments_lexer": "ipython3",
   "version": "3.8.8"
  }
 },
 "nbformat": 4,
 "nbformat_minor": 5
}
